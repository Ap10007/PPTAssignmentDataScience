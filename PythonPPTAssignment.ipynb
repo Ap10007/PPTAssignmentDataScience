{
 "cells": [
  {
   "cell_type": "markdown",
   "id": "5dc86360",
   "metadata": {},
   "source": [
    "# Python Assignment"
   ]
  },
  {
   "cell_type": "markdown",
   "id": "ea7ffd79",
   "metadata": {},
   "source": [
    "1. Write a Python program to reverse a string without using any built-in string reversal functions."
   ]
  },
  {
   "cell_type": "code",
   "execution_count": 1,
   "id": "674093ad",
   "metadata": {},
   "outputs": [],
   "source": [
    "def reverceString(s):\n",
    "    return s[::-1]"
   ]
  },
  {
   "cell_type": "code",
   "execution_count": 2,
   "id": "e50df6e6",
   "metadata": {},
   "outputs": [
    {
     "data": {
      "text/plain": [
       "'rahsaraP junA'"
      ]
     },
     "execution_count": 2,
     "metadata": {},
     "output_type": "execute_result"
    }
   ],
   "source": [
    "reverceString(\"Anuj Parashar\")"
   ]
  },
  {
   "cell_type": "markdown",
   "id": "ed88cd25",
   "metadata": {},
   "source": [
    "2. Implement a function to check if a given string is a palindrome."
   ]
  },
  {
   "cell_type": "code",
   "execution_count": 3,
   "id": "d28bddc2",
   "metadata": {},
   "outputs": [],
   "source": [
    "def palindrom(s):\n",
    "    if s==s[::-1]:\n",
    "        return \"String is Palindrom\""
   ]
  },
  {
   "cell_type": "code",
   "execution_count": 4,
   "id": "3734dba4",
   "metadata": {},
   "outputs": [
    {
     "data": {
      "text/plain": [
       "'String is Palindrom'"
      ]
     },
     "execution_count": 4,
     "metadata": {},
     "output_type": "execute_result"
    }
   ],
   "source": [
    "palindrom(\"nayan\")"
   ]
  },
  {
   "cell_type": "markdown",
   "id": "28a1cad7",
   "metadata": {},
   "source": [
    "3. Write a program to find the largest element in a given list."
   ]
  },
  {
   "cell_type": "code",
   "execution_count": 5,
   "id": "274b5d56",
   "metadata": {},
   "outputs": [],
   "source": [
    "def largestele(l):\n",
    "    e=0\n",
    "    for i in l:\n",
    "        if i >e:\n",
    "            e = i\n",
    "            max1 = e\n",
    "    return max1"
   ]
  },
  {
   "cell_type": "code",
   "execution_count": 6,
   "id": "11a7cb86",
   "metadata": {},
   "outputs": [
    {
     "data": {
      "text/plain": [
       "2000"
      ]
     },
     "execution_count": 6,
     "metadata": {},
     "output_type": "execute_result"
    }
   ],
   "source": [
    "largestele([1,5,0,7,22,88,99,2000])"
   ]
  },
  {
   "cell_type": "markdown",
   "id": "1fcc2252",
   "metadata": {},
   "source": [
    "4. Implement a function to count the occurrence of each element in a list."
   ]
  },
  {
   "cell_type": "code",
   "execution_count": 7,
   "id": "a20c9ee5",
   "metadata": {},
   "outputs": [],
   "source": [
    "def counoccele(L):\n",
    "    for i in set(L):\n",
    "        c=0\n",
    "        for j in L:\n",
    "            if i==j:\n",
    "                c+=1\n",
    "        print(i,c)"
   ]
  },
  {
   "cell_type": "code",
   "execution_count": 8,
   "id": "cf89322d",
   "metadata": {},
   "outputs": [
    {
     "name": "stdout",
     "output_type": "stream",
     "text": [
      "1 3\n",
      "2 3\n",
      "4 1\n",
      "5 4\n",
      "7 1\n",
      "8 3\n",
      "54 1\n"
     ]
    }
   ],
   "source": [
    "\n",
    "counoccele([1,2,54,5,2,5,2,4,5,8,5,7,8,8,1,1])"
   ]
  },
  {
   "cell_type": "markdown",
   "id": "14b51ef6",
   "metadata": {},
   "source": [
    "5. Write a Python program to find the second largest number in a list."
   ]
  },
  {
   "cell_type": "code",
   "execution_count": 9,
   "id": "31432b41",
   "metadata": {},
   "outputs": [],
   "source": [
    "def secoundlargerelement(L):\n",
    "    max1=max(L[0],L[1])\n",
    "    max2=min(L[0],L[1])\n",
    "    \n",
    "    for i in set(L):\n",
    "        if i>max1:\n",
    "            max2=max1\n",
    "            max1=i\n",
    "            #print(max1)\n",
    "            #print(max2)\n",
    "    return max2   "
   ]
  },
  {
   "cell_type": "code",
   "execution_count": 10,
   "id": "904034aa",
   "metadata": {},
   "outputs": [
    {
     "data": {
      "text/plain": [
       "55"
      ]
     },
     "execution_count": 10,
     "metadata": {},
     "output_type": "execute_result"
    }
   ],
   "source": [
    "secoundlargerelement([4,5,86,1,54,2,1,5,86,86,55])"
   ]
  },
  {
   "cell_type": "markdown",
   "id": "75f5442b",
   "metadata": {},
   "source": [
    "6. Implement a function to remove duplicate elements from a list."
   ]
  },
  {
   "cell_type": "code",
   "execution_count": 11,
   "id": "4ccdf08c",
   "metadata": {},
   "outputs": [],
   "source": [
    "def dupele(L):  \n",
    "    return list(set(L))"
   ]
  },
  {
   "cell_type": "code",
   "execution_count": 12,
   "id": "e693f5fd",
   "metadata": {},
   "outputs": [
    {
     "data": {
      "text/plain": [
       "[1, 2, 3, 7, 8, 9, 11, 14]"
      ]
     },
     "execution_count": 12,
     "metadata": {},
     "output_type": "execute_result"
    }
   ],
   "source": [
    "dupele([1,1,2,3,7,9,8,11,14,14])"
   ]
  },
  {
   "cell_type": "markdown",
   "id": "148d366b",
   "metadata": {},
   "source": [
    "7. Write a program to calculate the factorial of a given number."
   ]
  },
  {
   "cell_type": "code",
   "execution_count": 1,
   "id": "86de4431",
   "metadata": {},
   "outputs": [],
   "source": [
    "def factorial(n):\n",
    "    if n==1 or n==0:\n",
    "        return 1\n",
    "    return n*factorial(n-1)"
   ]
  },
  {
   "cell_type": "code",
   "execution_count": 4,
   "id": "e7d7e3b0",
   "metadata": {},
   "outputs": [
    {
     "data": {
      "text/plain": [
       "120"
      ]
     },
     "execution_count": 4,
     "metadata": {},
     "output_type": "execute_result"
    }
   ],
   "source": [
    "factorial(5)"
   ]
  },
  {
   "cell_type": "markdown",
   "id": "ac2720ca",
   "metadata": {},
   "source": [
    "8. Implement a function to check if a given number is prime."
   ]
  },
  {
   "cell_type": "code",
   "execution_count": 2,
   "id": "5f4a07d0",
   "metadata": {},
   "outputs": [],
   "source": [
    "def is_prime(number):\n",
    "    if number <= 1:\n",
    "        return \"Number is Not prime number\"\n",
    "    \n",
    "    # Check divisibility from 2 to the square root of the number\n",
    "    for i in range(2, int(number**0.5) + 1):\n",
    "        if number % i == 0:\n",
    "            return \"Number is Not prime number\"\n",
    "    \n",
    "    return \"Number is prime number\"\n"
   ]
  },
  {
   "cell_type": "code",
   "execution_count": 3,
   "id": "ad990ca0",
   "metadata": {},
   "outputs": [
    {
     "data": {
      "text/plain": [
       "'Number is Not prime number'"
      ]
     },
     "execution_count": 3,
     "metadata": {},
     "output_type": "execute_result"
    }
   ],
   "source": [
    "is_prime(1)"
   ]
  },
  {
   "cell_type": "markdown",
   "id": "11bd4d00",
   "metadata": {},
   "source": [
    "9. Write a Python program to sort a list of integers in ascending order."
   ]
  },
  {
   "cell_type": "code",
   "execution_count": 9,
   "id": "a9a6b09e",
   "metadata": {},
   "outputs": [],
   "source": [
    "def asced(L):\n",
    "    L.sort()\n",
    "    return L"
   ]
  },
  {
   "cell_type": "code",
   "execution_count": 10,
   "id": "e42d8151",
   "metadata": {},
   "outputs": [
    {
     "data": {
      "text/plain": [
       "[0, 1, 1, 2, 4, 4, 5, 8]"
      ]
     },
     "execution_count": 10,
     "metadata": {},
     "output_type": "execute_result"
    }
   ],
   "source": [
    "asced([1,4,8,2,1,4,0,5])"
   ]
  },
  {
   "cell_type": "markdown",
   "id": "bb5461be",
   "metadata": {},
   "source": [
    "10. Implement a function to find the sum of all numbers in a list."
   ]
  },
  {
   "cell_type": "code",
   "execution_count": 13,
   "id": "bb669499",
   "metadata": {},
   "outputs": [],
   "source": [
    "def sumlist(L):\n",
    "    T = 0\n",
    "   \n",
    "    for i in L:\n",
    "        T=T+i\n",
    "        \n",
    "    return T"
   ]
  },
  {
   "cell_type": "code",
   "execution_count": 14,
   "id": "f533a640",
   "metadata": {},
   "outputs": [
    {
     "data": {
      "text/plain": [
       "15"
      ]
     },
     "execution_count": 14,
     "metadata": {},
     "output_type": "execute_result"
    }
   ],
   "source": [
    "sumlist([1,2,3,4,5])"
   ]
  },
  {
   "cell_type": "markdown",
   "id": "dd860a63",
   "metadata": {},
   "source": [
    "11. Write a program to find the common elements between two lists."
   ]
  },
  {
   "cell_type": "code",
   "execution_count": 15,
   "id": "f890cdcd",
   "metadata": {},
   "outputs": [],
   "source": [
    "def commonele(L1,L2):\n",
    "    list1 = []\n",
    "    for i in L1:\n",
    "        if i in L2:\n",
    "            list1.append(i)\n",
    "    return(list1)"
   ]
  },
  {
   "cell_type": "code",
   "execution_count": 16,
   "id": "9cda190f",
   "metadata": {},
   "outputs": [
    {
     "data": {
      "text/plain": [
       "[4, 5]"
      ]
     },
     "execution_count": 16,
     "metadata": {},
     "output_type": "execute_result"
    }
   ],
   "source": [
    "commonele([1,2,4,5],[8,7,4,5])"
   ]
  },
  {
   "cell_type": "markdown",
   "id": "eed9c299",
   "metadata": {},
   "source": [
    "12. Implement a function to check if a given string is an anagram of another string."
   ]
  },
  {
   "cell_type": "code",
   "execution_count": 17,
   "id": "0473cec5",
   "metadata": {},
   "outputs": [],
   "source": [
    "def anagram(s1,s2):\n",
    "    if len(s1)!=len(s2):\n",
    "        return False\n",
    "    count=0\n",
    "    for i in s1:\n",
    "        if i in s2:\n",
    "            count+=1\n",
    "    if count==len(s1):\n",
    "        return True\n",
    "    else:\n",
    "        return False"
   ]
  },
  {
   "cell_type": "code",
   "execution_count": 18,
   "id": "c17063f8",
   "metadata": {},
   "outputs": [
    {
     "data": {
      "text/plain": [
       "True"
      ]
     },
     "execution_count": 18,
     "metadata": {},
     "output_type": "execute_result"
    }
   ],
   "source": [
    "anagram(\"listen\",\"silent\")"
   ]
  },
  {
   "cell_type": "markdown",
   "id": "8a2a4669",
   "metadata": {},
   "source": [
    "13. Write a Python program to generate all permutations of a given string."
   ]
  },
  {
   "cell_type": "code",
   "execution_count": 19,
   "id": "bb8a2443",
   "metadata": {},
   "outputs": [
    {
     "name": "stdout",
     "output_type": "stream",
     "text": [
      "['abc', 'acb', 'bac', 'bca', 'cab', 'cba']\n"
     ]
    }
   ],
   "source": [
    "from itertools import permutations\n",
    "\n",
    "def generate_permutations(string):\n",
    "    perm_list = list(permutations(string))\n",
    "    return [''.join(perm) for perm in perm_list]\n",
    "\n",
    "# Example usage\n",
    "my_string = \"abc\"\n",
    "permutations_list = generate_permutations(my_string)\n",
    "print(permutations_list)\n"
   ]
  },
  {
   "cell_type": "markdown",
   "id": "a7bc92a9",
   "metadata": {},
   "source": [
    "14. Implement a function to calculate the Fibonacci sequence up to a given number of terms."
   ]
  },
  {
   "cell_type": "code",
   "execution_count": 20,
   "id": "b1862c1c",
   "metadata": {},
   "outputs": [],
   "source": [
    "def fibo(n):\n",
    "    if n==1:\n",
    "        return 1\n",
    "    a=0\n",
    "    b=1\n",
    "    for i in range(2,n):\n",
    "        a,b=b,a+b\n",
    "        print(b)\n",
    "        "
   ]
  },
  {
   "cell_type": "code",
   "execution_count": 21,
   "id": "9fecbcc1",
   "metadata": {},
   "outputs": [
    {
     "name": "stdout",
     "output_type": "stream",
     "text": [
      "1\n",
      "2\n",
      "3\n",
      "5\n",
      "8\n",
      "13\n",
      "21\n",
      "34\n"
     ]
    }
   ],
   "source": [
    "fibo(10)"
   ]
  },
  {
   "cell_type": "markdown",
   "id": "3fd4d42c",
   "metadata": {},
   "source": [
    "15. Write a program to find the median of a list of numbers."
   ]
  },
  {
   "cell_type": "code",
   "execution_count": 24,
   "id": "10e37f55",
   "metadata": {},
   "outputs": [],
   "source": [
    "import numpy as np\n",
    "def med(L):\n",
    "    m = np.median(L)\n",
    "    return m"
   ]
  },
  {
   "cell_type": "code",
   "execution_count": 25,
   "id": "05262991",
   "metadata": {},
   "outputs": [
    {
     "data": {
      "text/plain": [
       "3.5"
      ]
     },
     "execution_count": 25,
     "metadata": {},
     "output_type": "execute_result"
    }
   ],
   "source": [
    "med([1,2,3,4,5,6])"
   ]
  },
  {
   "cell_type": "code",
   "execution_count": 26,
   "id": "16db539b",
   "metadata": {},
   "outputs": [],
   "source": [
    "def midian(L):\n",
    "    for i in range(len(L)):\n",
    "        min1=i\n",
    "        for j in range(i+1,len(L)):\n",
    "            if L[min1]>L[j]:\n",
    "                min1=j        \n",
    "        L[min1],L[i]=L[i],L[min1]\n",
    "    if len(L)%2==0:\n",
    "        return (L[len(L)//2-1]+L[len(L)//2])/2  \n",
    "    else:\n",
    "         return L[len(L)//2]"
   ]
  },
  {
   "cell_type": "code",
   "execution_count": 27,
   "id": "351de97a",
   "metadata": {},
   "outputs": [
    {
     "data": {
      "text/plain": [
       "25"
      ]
     },
     "execution_count": 27,
     "metadata": {},
     "output_type": "execute_result"
    }
   ],
   "source": [
    "midian([6, 18, 25, 25, 45, 54, 70])"
   ]
  },
  {
   "cell_type": "markdown",
   "id": "3225605a",
   "metadata": {},
   "source": [
    "16. Implement a function to check if a given list is sorted in non-decreasing order."
   ]
  },
  {
   "cell_type": "code",
   "execution_count": 28,
   "id": "123b6569",
   "metadata": {},
   "outputs": [],
   "source": [
    "def issorted(L):\n",
    "    for i in range(len(L)-1):\n",
    "        if L[i]>=L[i+1]:\n",
    "            continue\n",
    "        else:\n",
    "            return False\n",
    "    return True"
   ]
  },
  {
   "cell_type": "code",
   "execution_count": 29,
   "id": "994b6cf7",
   "metadata": {},
   "outputs": [
    {
     "data": {
      "text/plain": [
       "True"
      ]
     },
     "execution_count": 29,
     "metadata": {},
     "output_type": "execute_result"
    }
   ],
   "source": [
    "\n",
    "issorted([8,7,6,5,3,2,1])"
   ]
  },
  {
   "cell_type": "markdown",
   "id": "52a4b5e5",
   "metadata": {},
   "source": [
    "17. Write a Python program to find the intersection of two lists."
   ]
  },
  {
   "cell_type": "code",
   "execution_count": 30,
   "id": "11d63ee5",
   "metadata": {},
   "outputs": [],
   "source": [
    "def commonele(L1,L2):\n",
    "    list1 = []\n",
    "    for i in L1:\n",
    "        if i in L2:\n",
    "            list1.append(i)\n",
    "    return(list1)"
   ]
  },
  {
   "cell_type": "code",
   "execution_count": 31,
   "id": "99d789f5",
   "metadata": {},
   "outputs": [
    {
     "data": {
      "text/plain": [
       "[2, 4]"
      ]
     },
     "execution_count": 31,
     "metadata": {},
     "output_type": "execute_result"
    }
   ],
   "source": [
    "commonele([1,2,3,4,5],[7,8,9,2,4])"
   ]
  },
  {
   "cell_type": "markdown",
   "id": "439a1f43",
   "metadata": {},
   "source": [
    "18. Implement a function to find the maximum subarray sum in a given list."
   ]
  },
  {
   "cell_type": "code",
   "execution_count": 32,
   "id": "cbebc653",
   "metadata": {},
   "outputs": [],
   "source": [
    "def maximumsubarray(nums):\n",
    "    if not nums:\n",
    "        return 0\n",
    "    max_sum = float('-inf')\n",
    "    current_sum = 0\n",
    "\n",
    "    for num in nums:\n",
    "        current_sum = max(num, current_sum + num)\n",
    "        max_sum = max(max_sum, current_sum)\n",
    "\n",
    "    return max_sum"
   ]
  },
  {
   "cell_type": "code",
   "execution_count": 33,
   "id": "71dbdcf0",
   "metadata": {},
   "outputs": [
    {
     "data": {
      "text/plain": [
       "36"
      ]
     },
     "execution_count": 33,
     "metadata": {},
     "output_type": "execute_result"
    }
   ],
   "source": [
    "maximumsubarray([1,2,3,4,5,6,8,7])"
   ]
  },
  {
   "cell_type": "markdown",
   "id": "0dc26065",
   "metadata": {},
   "source": [
    "19. Write a program to remove all vowels from a given string."
   ]
  },
  {
   "cell_type": "code",
   "execution_count": 34,
   "id": "5658409a",
   "metadata": {},
   "outputs": [],
   "source": [
    "def removevowels(s):\n",
    "    vowals=\"aeiou\"\n",
    "    for i in s:\n",
    "        if i.lower() in vowals:\n",
    "            s=s.replace(i,\"\")\n",
    "    return s"
   ]
  },
  {
   "cell_type": "code",
   "execution_count": 35,
   "id": "cf8692ee",
   "metadata": {},
   "outputs": [
    {
     "data": {
      "text/plain": [
       "'nrn'"
      ]
     },
     "execution_count": 35,
     "metadata": {},
     "output_type": "execute_result"
    }
   ],
   "source": [
    "removevowels(\"Inueron\")"
   ]
  },
  {
   "cell_type": "markdown",
   "id": "898feb96",
   "metadata": {},
   "source": [
    "20. Implement a function to reverse the order of words in a given sentence."
   ]
  },
  {
   "cell_type": "code",
   "execution_count": 1,
   "id": "81b1f12c",
   "metadata": {},
   "outputs": [],
   "source": [
    "def reversesentence(s):\n",
    "    s1=s.split(\" \")\n",
    "    string=\"\"\n",
    "    for i in s1:\n",
    "        string=i+\" \"+string\n",
    "    return string"
   ]
  },
  {
   "cell_type": "code",
   "execution_count": 2,
   "id": "954b188f",
   "metadata": {},
   "outputs": [
    {
     "data": {
      "text/plain": [
       "'future is science data '"
      ]
     },
     "execution_count": 2,
     "metadata": {},
     "output_type": "execute_result"
    }
   ],
   "source": [
    "reversesentence(\"data science is future\")"
   ]
  },
  {
   "cell_type": "markdown",
   "id": "ea89b227",
   "metadata": {},
   "source": [
    "21. Write a Python program to check if two strings are anagrams of each other."
   ]
  },
  {
   "cell_type": "code",
   "execution_count": 3,
   "id": "7e694f7b",
   "metadata": {},
   "outputs": [
    {
     "data": {
      "text/plain": [
       "True"
      ]
     },
     "execution_count": 3,
     "metadata": {},
     "output_type": "execute_result"
    }
   ],
   "source": [
    "def anagram(s1,s2):\n",
    "    if len(s1)!=len(s2):\n",
    "        return False\n",
    "    count=0\n",
    "    for i in s1:\n",
    "        if i in s2:\n",
    "            count+=1\n",
    "    if count==len(s1):\n",
    "        return True\n",
    "    else:\n",
    "        return False\n",
    "anagram(\"listen\",\"slient\")"
   ]
  },
  {
   "cell_type": "markdown",
   "id": "b03b7be5",
   "metadata": {},
   "source": [
    "22. Implement a function to find the first non-repeating character in a string."
   ]
  },
  {
   "cell_type": "code",
   "execution_count": 4,
   "id": "8c9f2591",
   "metadata": {},
   "outputs": [],
   "source": [
    "def nonrepetingchr(s):\n",
    "    dict1={}\n",
    "    for i in s:\n",
    "        if i in dict1:\n",
    "            dict1[i]+=1\n",
    "        else:\n",
    "            dict1[i]=1\n",
    "    for j in s:\n",
    "        if dict1[j]==1:\n",
    "            return j"
   ]
  },
  {
   "cell_type": "code",
   "execution_count": 5,
   "id": "6ee5b05f",
   "metadata": {},
   "outputs": [
    {
     "data": {
      "text/plain": [
       "'l'"
      ]
     },
     "execution_count": 5,
     "metadata": {},
     "output_type": "execute_result"
    }
   ],
   "source": [
    "nonrepetingchr(\"theblackboxfoxjumpintotherever\")"
   ]
  },
  {
   "cell_type": "markdown",
   "id": "687fcf2a",
   "metadata": {},
   "source": [
    "23. Write a program to find the prime factors of a given number."
   ]
  },
  {
   "cell_type": "code",
   "execution_count": 6,
   "id": "d155f490",
   "metadata": {},
   "outputs": [
    {
     "data": {
      "text/plain": [
       "[2, 2, 3, 3]"
      ]
     },
     "execution_count": 6,
     "metadata": {},
     "output_type": "execute_result"
    }
   ],
   "source": [
    "def primefactors(number):\n",
    "    factors = []\n",
    "    divisor = 2\n",
    "    \n",
    "    while divisor <= number:\n",
    "        if number % divisor == 0:\n",
    "            factors.append(divisor)\n",
    "            number = number / divisor\n",
    "        else:\n",
    "            divisor += 1\n",
    "    \n",
    "    return factors\n",
    "primefactors(36)"
   ]
  },
  {
   "cell_type": "markdown",
   "id": "7ff5691c",
   "metadata": {},
   "source": [
    "24. Implement a function to check if a given number is a power of two."
   ]
  },
  {
   "cell_type": "code",
   "execution_count": 12,
   "id": "3047cf64",
   "metadata": {},
   "outputs": [],
   "source": [
    "def is_power_of_two(n):\n",
    "    # If n is less than or equal to 0, it cannot be a power of two\n",
    "    if n <= 0:\n",
    "        return False\n",
    "    \n",
    "    # Using bitwise AND operation to check if n is a power of two\n",
    "    # A power of two in binary has only one bit set to 1\n",
    "    # For example, 4 in binary is 100, and 4-1 is 3 in binary, which is 011\n",
    "    # Taking the bitwise AND of 4 and 3 results in 0\n",
    "    # If n is a power of two, n & (n - 1) will be 0\n",
    "    return (n & (n - 1)) == 0\n"
   ]
  },
  {
   "cell_type": "code",
   "execution_count": 14,
   "id": "6ac614ec",
   "metadata": {},
   "outputs": [
    {
     "name": "stdout",
     "output_type": "stream",
     "text": [
      "True\n",
      "True\n",
      "False\n",
      "False\n",
      "True\n"
     ]
    }
   ],
   "source": [
    "print(is_power_of_two(4))  # True\n",
    "print(is_power_of_two(16))  # True\n",
    "print(is_power_of_two(10))  # False\n",
    "print(is_power_of_two(0))  # False"
   ]
  },
  {
   "cell_type": "markdown",
   "id": "1392cc1f",
   "metadata": {},
   "source": [
    "25. Write a Python program to merge two sorted lists into a single sorted list."
   ]
  },
  {
   "cell_type": "code",
   "execution_count": 21,
   "id": "b263506e",
   "metadata": {},
   "outputs": [],
   "source": [
    "def mergesorted(l1,l2):\n",
    "    l3 = []\n",
    "    l3 = l1 + l2\n",
    "    print(l3)\n",
    "    l3.sort()\n",
    "  \n",
    "    return l3 "
   ]
  },
  {
   "cell_type": "code",
   "execution_count": 22,
   "id": "5fe3f619",
   "metadata": {},
   "outputs": [
    {
     "name": "stdout",
     "output_type": "stream",
     "text": [
      "[1, 3, 5, 7, 9, 1, 2, 5, 6, 4, 6, 8, 10]\n"
     ]
    },
    {
     "data": {
      "text/plain": [
       "[1, 1, 2, 3, 4, 5, 5, 6, 6, 7, 8, 9, 10]"
      ]
     },
     "execution_count": 22,
     "metadata": {},
     "output_type": "execute_result"
    }
   ],
   "source": [
    "mergesorted([1, 3, 5, 7, 9],[1, 2,5,6,4, 6, 8, 10])"
   ]
  },
  {
   "cell_type": "markdown",
   "id": "a4e5e5a7",
   "metadata": {},
   "source": [
    "26. Implement a function to find the mode of a list of numbers."
   ]
  },
  {
   "cell_type": "code",
   "execution_count": 25,
   "id": "1c9968c2",
   "metadata": {},
   "outputs": [],
   "source": [
    "import statistics\n",
    "def mod(l):\n",
    "    m=statistics.mode(l)\n",
    "    return m"
   ]
  },
  {
   "cell_type": "code",
   "execution_count": 26,
   "id": "2d09313f",
   "metadata": {},
   "outputs": [
    {
     "data": {
      "text/plain": [
       "6"
      ]
     },
     "execution_count": 26,
     "metadata": {},
     "output_type": "execute_result"
    }
   ],
   "source": [
    "mod([1, 2,5,6,4, 6, 8, 10])"
   ]
  },
  {
   "cell_type": "markdown",
   "id": "f3c27f63",
   "metadata": {},
   "source": [
    "27. Write a program to find the greatest common divisor (GCD) of two numbers."
   ]
  },
  {
   "cell_type": "code",
   "execution_count": 27,
   "id": "01f70520",
   "metadata": {},
   "outputs": [
    {
     "data": {
      "text/plain": [
       "18"
      ]
     },
     "execution_count": 27,
     "metadata": {},
     "output_type": "execute_result"
    }
   ],
   "source": [
    "def gcd(a, b):\n",
    "    while b != 0:\n",
    "        a, b = b, a % b\n",
    "    return a\n",
    "gcd(36,54)"
   ]
  },
  {
   "cell_type": "markdown",
   "id": "7f6db714",
   "metadata": {},
   "source": [
    "28. Implement a function to calculate the square root of a given number."
   ]
  },
  {
   "cell_type": "code",
   "execution_count": 28,
   "id": "d2546beb",
   "metadata": {},
   "outputs": [],
   "source": [
    "def sqr(n):\n",
    "    s = n**0.5\n",
    "    return s"
   ]
  },
  {
   "cell_type": "code",
   "execution_count": 29,
   "id": "4247e5f8",
   "metadata": {},
   "outputs": [
    {
     "data": {
      "text/plain": [
       "2.0"
      ]
     },
     "execution_count": 29,
     "metadata": {},
     "output_type": "execute_result"
    }
   ],
   "source": [
    "sqr(4)"
   ]
  },
  {
   "cell_type": "markdown",
   "id": "a1e27c0e",
   "metadata": {},
   "source": [
    "29. Write a Python program to check if a given string is a valid palindrome ignoring non-alphanumeric characters."
   ]
  },
  {
   "cell_type": "code",
   "execution_count": 30,
   "id": "778de184",
   "metadata": {},
   "outputs": [
    {
     "data": {
      "text/plain": [
       "True"
      ]
     },
     "execution_count": 30,
     "metadata": {},
     "output_type": "execute_result"
    }
   ],
   "source": [
    "def isdpalindrome(s):\n",
    "    s = ''.join(ch.lower() for ch in s if ch.isalnum())\n",
    "    return s == s[::-1]\n",
    "isdpalindrome(\"abcbcba\")"
   ]
  },
  {
   "cell_type": "markdown",
   "id": "11741eba",
   "metadata": {},
   "source": [
    "30. Implement a function to find the minimum element in a rotated sorted list."
   ]
  },
  {
   "cell_type": "code",
   "execution_count": 31,
   "id": "edba74ec",
   "metadata": {},
   "outputs": [
    {
     "name": "stdout",
     "output_type": "stream",
     "text": [
      "0\n"
     ]
    }
   ],
   "source": [
    "def find_minimum(nums):\n",
    "    left = 0\n",
    "    right = len(nums) - 1\n",
    "\n",
    "    while left < right:\n",
    "        mid = left + (right - left) // 2\n",
    "\n",
    "        # Check if the middle element is greater than the rightmost element\n",
    "        # If so, the minimum element lies in the right half\n",
    "        if nums[mid] > nums[right]:\n",
    "            left = mid + 1\n",
    "        # Check if the middle element is less than the rightmost element\n",
    "        # If so, the minimum element lies in the left half or is equal to the middle element\n",
    "        else:\n",
    "            right = mid\n",
    "\n",
    "    # At the end of the loop, left and right will be equal and will point to the minimum element\n",
    "    return nums[left]\n",
    "\n",
    "# Example usage\n",
    "rotated_list = [4, 5, 6, 7, 0, 1, 2]\n",
    "minimum = find_minimum(rotated_list)\n",
    "print(minimum)  # Output: 0\n"
   ]
  },
  {
   "cell_type": "code",
   "execution_count": 32,
   "id": "43be7891",
   "metadata": {},
   "outputs": [],
   "source": [
    "def fin_min(n):\n",
    "    n.sort()\n",
    "    return min(n)"
   ]
  },
  {
   "cell_type": "code",
   "execution_count": 33,
   "id": "fcd301d0",
   "metadata": {},
   "outputs": [
    {
     "data": {
      "text/plain": [
       "0"
      ]
     },
     "execution_count": 33,
     "metadata": {},
     "output_type": "execute_result"
    }
   ],
   "source": [
    "fin_min([4, 5, 6, 7, 0, 1, 2])"
   ]
  },
  {
   "cell_type": "markdown",
   "id": "11f4e479",
   "metadata": {},
   "source": [
    "31. Write a program to find the sum of all even numbers in a list."
   ]
  },
  {
   "cell_type": "code",
   "execution_count": 36,
   "id": "c43e0fbc",
   "metadata": {},
   "outputs": [],
   "source": [
    "def sum_even(L):\n",
    "    t = 0\n",
    "    for i in L:\n",
    "        if i % 2 == 0:\n",
    "            t = t+i\n",
    "    return t"
   ]
  },
  {
   "cell_type": "code",
   "execution_count": 37,
   "id": "07bf28e6",
   "metadata": {},
   "outputs": [
    {
     "data": {
      "text/plain": [
       "20"
      ]
     },
     "execution_count": 37,
     "metadata": {},
     "output_type": "execute_result"
    }
   ],
   "source": [
    "sum_even([1,2,3,4,5,6,7,8])"
   ]
  },
  {
   "cell_type": "markdown",
   "id": "e4ff2a9c",
   "metadata": {},
   "source": [
    "32. Implement a function to calculate the power of a number using recursion."
   ]
  },
  {
   "cell_type": "code",
   "execution_count": 38,
   "id": "472e90f6",
   "metadata": {},
   "outputs": [
    {
     "data": {
      "text/plain": [
       "248832"
      ]
     },
     "execution_count": 38,
     "metadata": {},
     "output_type": "execute_result"
    }
   ],
   "source": [
    "def power(b, e):\n",
    "    if e == 0:\n",
    "        return 1\n",
    "    elif e < 0:\n",
    "        return 1 / power(b, -e)\n",
    "    else:\n",
    "        return b * power(b, e - 1)\n",
    "power(12,5)"
   ]
  },
  {
   "cell_type": "markdown",
   "id": "9506255a",
   "metadata": {},
   "source": [
    "33. Write a Python program to remove duplicates from a list while preserving the order."
   ]
  },
  {
   "cell_type": "code",
   "execution_count": 42,
   "id": "c4498794",
   "metadata": {},
   "outputs": [
    {
     "data": {
      "text/plain": [
       "[1, 2, 5, 4]"
      ]
     },
     "execution_count": 42,
     "metadata": {},
     "output_type": "execute_result"
    }
   ],
   "source": [
    "\n",
    "def remdup(l):\n",
    "    s = set()\n",
    "    r = []\n",
    "\n",
    "    for i in l:\n",
    "        if i not in s:\n",
    "            s.add(i)\n",
    "            r.append(i)\n",
    "\n",
    "    return r\n",
    "\n",
    "remdup([1,1,1,2,5,1,2,5,1,2,5,4])"
   ]
  },
  {
   "cell_type": "markdown",
   "id": "151b5fba",
   "metadata": {},
   "source": [
    "34. Implement a function to find the longest common prefix among a list of strings."
   ]
  },
  {
   "cell_type": "code",
   "execution_count": 44,
   "id": "edb04e19",
   "metadata": {},
   "outputs": [
    {
     "data": {
      "text/plain": [
       "'ab'"
      ]
     },
     "execution_count": 44,
     "metadata": {},
     "output_type": "execute_result"
    }
   ],
   "source": [
    "def commonprefix(strs):\n",
    "    if not strs:\n",
    "        return \"\"\n",
    "    min_length = min(len(s) for s in strs)\n",
    "    prefix = \"\"\n",
    "    for i in range(min_length):\n",
    "        char = strs[0][i]\n",
    "        for j in range(1, len(strs)):\n",
    "            if strs[j][i] != char:\n",
    "                return prefix\n",
    "        prefix += char\n",
    "    return prefix\n",
    "commonprefix([\"abc\",\"abx\",\"abv\"])"
   ]
  },
  {
   "cell_type": "markdown",
   "id": "d5804482",
   "metadata": {},
   "source": [
    "35. Write a program to check if a given number is a perfect square."
   ]
  },
  {
   "cell_type": "code",
   "execution_count": 47,
   "id": "855b7be2",
   "metadata": {},
   "outputs": [
    {
     "data": {
      "text/plain": [
       "True"
      ]
     },
     "execution_count": 47,
     "metadata": {},
     "output_type": "execute_result"
    }
   ],
   "source": [
    "def perfectsqure(n):\n",
    "    for i in range(n):\n",
    "        if i*i==n:\n",
    "            return True\n",
    "    return False\n",
    "perfectsqure(4)"
   ]
  },
  {
   "cell_type": "markdown",
   "id": "4a4601d6",
   "metadata": {},
   "source": [
    "36. Implement a function to calculate the product of all elements in a list."
   ]
  },
  {
   "cell_type": "code",
   "execution_count": 48,
   "id": "80d830d5",
   "metadata": {},
   "outputs": [],
   "source": [
    "def mul1(L):\n",
    "    M = 1 \n",
    "    for i in L:\n",
    "        M = M*i\n",
    "    return M"
   ]
  },
  {
   "cell_type": "code",
   "execution_count": 49,
   "id": "74f33e58",
   "metadata": {},
   "outputs": [
    {
     "data": {
      "text/plain": [
       "24"
      ]
     },
     "execution_count": 49,
     "metadata": {},
     "output_type": "execute_result"
    }
   ],
   "source": [
    "mul1([1,2,3,4])"
   ]
  },
  {
   "cell_type": "markdown",
   "id": "1d9c8df6",
   "metadata": {},
   "source": [
    "37. Write a Python program to reverse the order of words in a sentence while preserving the word order."
   ]
  },
  {
   "cell_type": "code",
   "execution_count": 50,
   "id": "1ad53416",
   "metadata": {},
   "outputs": [
    {
     "data": {
      "text/plain": [
       "'best the is Inueron'"
      ]
     },
     "execution_count": 50,
     "metadata": {},
     "output_type": "execute_result"
    }
   ],
   "source": [
    "def reversesentence(sentence):\n",
    "    words = sentence.split()\n",
    "    reversed_words = words[::-1]\n",
    "    reversed_sentence = \" \".join(reversed_words)\n",
    "    return reversed_sentence\n",
    "reversesentence(\"Inueron is the best\")"
   ]
  },
  {
   "cell_type": "markdown",
   "id": "e283038b",
   "metadata": {},
   "source": [
    "38. Implement a function to find the missing number in a given list of consecutive numbers."
   ]
  },
  {
   "cell_type": "code",
   "execution_count": 53,
   "id": "d56ff349",
   "metadata": {},
   "outputs": [
    {
     "data": {
      "text/plain": [
       "2"
      ]
     },
     "execution_count": 53,
     "metadata": {},
     "output_type": "execute_result"
    }
   ],
   "source": [
    "def missingnum(l):\n",
    "    for i in range(len(l)-1):\n",
    "        if l[i]+1==l[i+1]:\n",
    "            continue\n",
    "        else:\n",
    "            return l[i]+1\n",
    "missingnum([1,5,6,7,8,9]) "
   ]
  },
  {
   "cell_type": "markdown",
   "id": "3c8524f9",
   "metadata": {},
   "source": [
    "39. Write a program to find the sum of digits of a given number."
   ]
  },
  {
   "cell_type": "code",
   "execution_count": 1,
   "id": "02d0bf38",
   "metadata": {},
   "outputs": [],
   "source": [
    "def sumd(n):\n",
    "    s = 0\n",
    "    for i in str(n):\n",
    "        s = s + int(i)\n",
    "    return s"
   ]
  },
  {
   "cell_type": "code",
   "execution_count": 2,
   "id": "f18c426c",
   "metadata": {},
   "outputs": [
    {
     "data": {
      "text/plain": [
       "3"
      ]
     },
     "execution_count": 2,
     "metadata": {},
     "output_type": "execute_result"
    }
   ],
   "source": [
    "sumd(12)"
   ]
  },
  {
   "cell_type": "markdown",
   "id": "d98c49c6",
   "metadata": {},
   "source": [
    "40. Implement a function to check if a given string is a valid palindrome considering case sensitivity."
   ]
  },
  {
   "cell_type": "code",
   "execution_count": 3,
   "id": "95d7d5a5",
   "metadata": {},
   "outputs": [
    {
     "data": {
      "text/plain": [
       "True"
      ]
     },
     "execution_count": 3,
     "metadata": {},
     "output_type": "execute_result"
    }
   ],
   "source": [
    "def ispalindrom(s):\n",
    "    lower=s.lower()\n",
    "    if lower==lower[::-1]:\n",
    "        return True\n",
    "    else:\n",
    "        False\n",
    "ispalindrom(\"mADAm\")"
   ]
  },
  {
   "cell_type": "markdown",
   "id": "fe484059",
   "metadata": {},
   "source": [
    "41. Write a Python program to find the smallest missing positive integer in a list."
   ]
  },
  {
   "cell_type": "code",
   "execution_count": 4,
   "id": "0b1736e0",
   "metadata": {},
   "outputs": [
    {
     "data": {
      "text/plain": [
       "1"
      ]
     },
     "execution_count": 4,
     "metadata": {},
     "output_type": "execute_result"
    }
   ],
   "source": [
    "def missingpositive(nums):\n",
    "    n = len(nums)\n",
    "    j = 0\n",
    "    for i in range(n):\n",
    "        if nums[i] > 0:\n",
    "            nums[i], nums[j] = nums[j], nums[i]\n",
    "            j += 1\n",
    "    for i in range(j):\n",
    "        num = abs(nums[i])\n",
    "        if num <= j:\n",
    "            nums[num - 1] = -abs(nums[num - 1])\n",
    "    for i in range(j):\n",
    "        if nums[i] > 0:\n",
    "            return i + 1\n",
    "    return j + 1\n",
    "missingpositive([3,4,25,4])"
   ]
  },
  {
   "cell_type": "markdown",
   "id": "02c22fb7",
   "metadata": {},
   "source": [
    "42. Implement a function to find the longest palindrome substring in a given string."
   ]
  },
  {
   "cell_type": "code",
   "execution_count": 5,
   "id": "9a78f034",
   "metadata": {},
   "outputs": [
    {
     "data": {
      "text/plain": [
       "'madam'"
      ]
     },
     "execution_count": 5,
     "metadata": {},
     "output_type": "execute_result"
    }
   ],
   "source": [
    "def palindrome(s):\n",
    "    if len(s) < 2:\n",
    "        return s\n",
    "    start = 0\n",
    "    end = 0\n",
    "    for i in range(len(s)):\n",
    "        len1 = aroundcenter(s, i, i)  \n",
    "        len2 = aroundcenter(s, i, i + 1)  \n",
    "        max_len = max(len1, len2)\n",
    "        if max_len > end - start:\n",
    "            start = i - (max_len - 1) // 2\n",
    "            end = i + max_len // 2\n",
    "    return s[start:end + 1]\n",
    "def aroundcenter(s, left, right):\n",
    "    while left >= 0 and right < len(s) and s[left] == s[right]:\n",
    "        left -= 1\n",
    "        right += 1\n",
    "    return right - left - 1\n",
    "palindrome(\"madam\")"
   ]
  },
  {
   "cell_type": "markdown",
   "id": "4778eb61",
   "metadata": {},
   "source": [
    "43. Write a program to find the number of occurrences of a given element in a list."
   ]
  },
  {
   "cell_type": "code",
   "execution_count": 6,
   "id": "776f3b5e",
   "metadata": {},
   "outputs": [
    {
     "data": {
      "text/plain": [
       "9"
      ]
     },
     "execution_count": 6,
     "metadata": {},
     "output_type": "execute_result"
    }
   ],
   "source": [
    "def numberofoccurance(l,n):\n",
    "    count=0\n",
    "    for i in l:\n",
    "        if i==n:\n",
    "            count+=1\n",
    "    return count\n",
    "\n",
    "numberofoccurance([1,2,1,2,1,1,5,4,1,5,1,5,3,1,5,4,4,1,2,1],1)"
   ]
  },
  {
   "cell_type": "markdown",
   "id": "c3b0f63d",
   "metadata": {},
   "source": [
    "44. Implement a function to check if a given number is a perfect number."
   ]
  },
  {
   "cell_type": "code",
   "execution_count": 7,
   "id": "9a078263",
   "metadata": {},
   "outputs": [
    {
     "data": {
      "text/plain": [
       "False"
      ]
     },
     "execution_count": 7,
     "metadata": {},
     "output_type": "execute_result"
    }
   ],
   "source": [
    "def isperfectnumber(num):\n",
    "    if num <= 0:\n",
    "        return False\n",
    "    divisorsum = 0\n",
    "    for i in range(1, num):\n",
    "        if num % i == 0:\n",
    "            divisorsum += i\n",
    "    return divisorsum == num\n",
    "isperfectnumber(25)"
   ]
  },
  {
   "cell_type": "markdown",
   "id": "e4549b31",
   "metadata": {},
   "source": [
    "45. Write a Python program to remove all duplicates from a string."
   ]
  },
  {
   "cell_type": "code",
   "execution_count": 8,
   "id": "b1be4e69",
   "metadata": {},
   "outputs": [
    {
     "data": {
      "text/plain": [
       "''"
      ]
     },
     "execution_count": 8,
     "metadata": {},
     "output_type": "execute_result"
    }
   ],
   "source": [
    "def removed(s):\n",
    "    for i in s:\n",
    "        if s.count(i)>1:\n",
    "            s=s.replace(i,\"\")\n",
    "    return s\n",
    "removed(\"cccaaayyyhhh\")"
   ]
  },
  {
   "cell_type": "markdown",
   "id": "fe0e75ba",
   "metadata": {},
   "source": [
    "46. Implement a function to find the first missing positive"
   ]
  },
  {
   "cell_type": "code",
   "execution_count": 9,
   "id": "14bebab5",
   "metadata": {},
   "outputs": [
    {
     "data": {
      "text/plain": [
       "2"
      ]
     },
     "execution_count": 9,
     "metadata": {},
     "output_type": "execute_result"
    }
   ],
   "source": [
    "def missingpositive(nums):\n",
    "    n = len(nums)\n",
    "    j = 0\n",
    "    for i in range(n):\n",
    "        if nums[i] > 0:\n",
    "            nums[i], nums[j] = nums[j], nums[i]\n",
    "            j += 1\n",
    "    for i in range(j):\n",
    "        num = abs(nums[i])\n",
    "        if num <= j:\n",
    "            nums[num - 1] = -abs(nums[num - 1])\n",
    "    for i in range(j):\n",
    "        if nums[i] > 0:\n",
    "            return i + 1\n",
    "    return j + 1\n",
    "missingpositive([1,5,4,-1])"
   ]
  },
  {
   "cell_type": "code",
   "execution_count": null,
   "id": "d29122ed",
   "metadata": {},
   "outputs": [],
   "source": []
  }
 ],
 "metadata": {
  "kernelspec": {
   "display_name": "Python 3 (ipykernel)",
   "language": "python",
   "name": "python3"
  },
  "language_info": {
   "codemirror_mode": {
    "name": "ipython",
    "version": 3
   },
   "file_extension": ".py",
   "mimetype": "text/x-python",
   "name": "python",
   "nbconvert_exporter": "python",
   "pygments_lexer": "ipython3",
   "version": "3.9.13"
  }
 },
 "nbformat": 4,
 "nbformat_minor": 5
}
